{
 "cells": [
  {
   "cell_type": "markdown",
   "metadata": {},
   "source": [
    "# Categorical ATE Estimation: Strange Behaviour"
   ]
  },
  {
   "cell_type": "markdown",
   "metadata": {},
   "source": [
    "In this notebook, I will estimate the effect of three different drugs on the heart rate of individuals. I want to make a comparison between each drug by estimating the causal effect of taking one drug instead of another. I will do this using a linear regression model."
   ]
  },
  {
   "cell_type": "code",
   "execution_count": 105,
   "metadata": {},
   "outputs": [],
   "source": [
    "from dowhy import CausalModel\n",
    "from itertools import combinations\n",
    "from pprint import pprint\n",
    "import numpy as np\n",
    "import pandas as pd\n",
    "import matplotlib.pyplot as plt\n",
    "plt.style.use(\"seaborn\")"
   ]
  },
  {
   "cell_type": "markdown",
   "metadata": {},
   "source": [
    "First, we will create the variables and a causal graph."
   ]
  },
  {
   "cell_type": "code",
   "execution_count": 106,
   "metadata": {},
   "outputs": [],
   "source": [
    "treatment = \"Drug\"\n",
    "treatments = [\"1\", \"2\", \"3\", \"4\"]  # Different versions of drug (treatment levels to compare)\n",
    "outcome = \"Heart Rate\"\n",
    "confounders = [\"Age\", \"Weight\"]\n",
    "causal_graph = \"\"\"digraph{\"Drug\"->\"Heart Rate\";\"Age\"->\"Drug\";\"Age\"->\"Heart Rate\";\"Weight\"->\"Drug\";\"Weight\"->\"Heart Rate\";}\"\"\""
   ]
  },
  {
   "cell_type": "markdown",
   "metadata": {},
   "source": [
    "Next, we will simulate some data that matches the causal graph. We will make drug 1 have a positive effect of 20 on heart rate and drug 2 have a negative effect of 20 on heart rate. Drugs 3 and 4 will have no effect."
   ]
  },
  {
   "cell_type": "code",
   "execution_count": 107,
   "metadata": {},
   "outputs": [
    {
     "data": {
      "image/png": "[encoded data removed]",
      "text/plain": [
       "<Figure size 576x396 with 1 Axes>"
      ]
     },
     "metadata": {},
     "output_type": "display_data"
    }
   ],
   "source": [
    "df = pd.DataFrame({\"Drug\": [], \"Heart Rate\": [], \"Age\": [], \"Weight\": []})\n",
    "n_subjects = 1000\n",
    "for n in range(n_subjects):\n",
    "    age = abs(np.random.normal(40, 10))\n",
    "    weight = abs(np.random.normal(70, 10))\n",
    "    heart_rate = abs(np.random.normal(60, 5))\n",
    "    if age > 60:\n",
    "        heart_rate * (1 + age/200)\n",
    "    if weight > 90:\n",
    "        heart_rate * (1 + weight/200)\n",
    "    drug = np.random.choice([\"1\", \"2\", \"3\", \"4\"])\n",
    "    if drug == \"1\":\n",
    "        heart_rate += 20\n",
    "    elif drug == \"2\":\n",
    "        heart_rate -= 20\n",
    "    df = df.append({\"Drug\": drug, \"Heart Rate\": heart_rate, \"Age\": age, \"Weight\": weight}, ignore_index=True)\n",
    "df[\"Drug\"] = df[\"Drug\"].astype(\"category\")\n",
    "df.boxplot(by=\"Drug\", column=\"Heart Rate\")\n",
    "plt.tight_layout()"
   ]
  },
  {
   "cell_type": "markdown",
   "metadata": {},
   "source": [
    "Now let's do the causal inference."
   ]
  },
  {
   "cell_type": "code",
   "execution_count": 108,
   "metadata": {},
   "outputs": [
    {
     "name": "stdout",
     "output_type": "stream",
     "text": [
      "{('1', '2'): -3.8589,\n",
      " ('1', '3'): -7.7178,\n",
      " ('1', '4'): -11.5767,\n",
      " ('2', '3'): -3.8589,\n",
      " ('2', '4'): -7.7178,\n",
      " ('3', '4'): -3.8589}\n"
     ]
    }
   ],
   "source": [
    "causal_model = CausalModel(df, \"Drug\", \"Heart Rate\", causal_graph)\n",
    "causal_estimand = causal_model.identify_effect(proceed_when_unidentifiable=True)\n",
    "\n",
    "# Compare each unique pair of drugs:\n",
    "control_treatment_pairs = combinations([\"1\", \"2\", \"3\", \"4\"], 2)\n",
    "causal_estimates = {}\n",
    "for control_treatment_pair in control_treatment_pairs:\n",
    "    control_value, treatment_value = control_treatment_pair\n",
    "    causal_estimate = causal_model.estimate_effect(causal_estimand, method_name=\"backdoor.linear_regression\",\n",
    "                                                   control_value=control_value, treatment_value=treatment_value)\n",
    "    causal_estimates[(control_value, treatment_value)] = round(causal_estimate.value, 4)\n",
    "\n",
    "pprint(causal_estimates)"
   ]
  },
  {
   "cell_type": "markdown",
   "metadata": {},
   "source": [
    "These results are wrong. The estimate is based on the numerical difference between the category values and is not the difference between the average heart rate of those that received control and treatment. For example, notice that ('1', '2'), ('2', '3'), and ('3', '4') yield -4.0258 because they all increase by one. On the other hand, ('1', '3') and ('2', '4') both yield -8.0516 because they increase by two."
   ]
  },
  {
   "cell_type": "markdown",
   "metadata": {},
   "source": [
    "However, if we split the original dataframes for each comparison, we get the expected results."
   ]
  },
  {
   "cell_type": "code",
   "execution_count": 109,
   "metadata": {},
   "outputs": [
    {
     "name": "stdout",
     "output_type": "stream",
     "text": [
      "{('1', '2'): -39.6821,\n",
      " ('1', '3'): -20.4899,\n",
      " ('1', '4'): -19.8876,\n",
      " ('2', '3'): 19.1768,\n",
      " ('2', '4'): 19.8043,\n",
      " ('3', '4'): 0.6201}\n"
     ]
    }
   ],
   "source": [
    "control_treatment_pairs = combinations([\"1\", \"2\", \"3\", \"4\"], 2)\n",
    "causal_estimates = {}\n",
    "for control_treatment_pair in control_treatment_pairs:\n",
    "    control_value, treatment_value = control_treatment_pair\n",
    "    new_df = df.loc[df[\"Drug\"].isin([control_value, treatment_value])]    \n",
    "    causal_model = CausalModel(new_df, \"Drug\", \"Heart Rate\", causal_graph)\n",
    "    causal_estimand = causal_model.identify_effect(proceed_when_unidentifiable=True)\n",
    "    causal_estimate = causal_model.estimate_effect(causal_estimand, method_name=\"backdoor.linear_regression\",\n",
    "                                                   control_value=control_value, treatment_value=treatment_value)\n",
    "    causal_estimates[(control_value, treatment_value)] = round(causal_estimate.value, 4)\n",
    "\n",
    "pprint(causal_estimates)"
   ]
  }
 ],
 "metadata": {
  "kernelspec": {
   "display_name": "dowhy_causal_inference_venv",
   "language": "python",
   "name": "dowhy_causal_inference_venv"
  },
  "language_info": {
   "codemirror_mode": {
    "name": "ipython",
    "version": 3
   },
   "file_extension": ".py",
   "mimetype": "text/x-python",
   "name": "python",
   "nbconvert_exporter": "python",
   "pygments_lexer": "ipython3",
   "version": "3.9.0"
  }
 },
 "nbformat": 4,
 "nbformat_minor": 4
}
